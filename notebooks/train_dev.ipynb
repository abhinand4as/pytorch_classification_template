{
 "cells": [
  {
   "cell_type": "code",
   "execution_count": 2,
   "metadata": {},
   "outputs": [
    {
     "name": "stderr",
     "output_type": "stream",
     "text": [
      "/home/cvision/.virtualenvs/torch/lib/python3.8/site-packages/tqdm/auto.py:22: TqdmWarning: IProgress not found. Please update jupyter and ipywidgets. See https://ipywidgets.readthedocs.io/en/stable/user_install.html\n",
      "  from .autonotebook import tqdm as notebook_tqdm\n"
     ]
    }
   ],
   "source": [
    "import os\n",
    "import numpy as np\n",
    "import matplotlib.pyplot as plt\n",
    "import warnings\n",
    "\n",
    "import cv2\n",
    "from tqdm import tqdm\n",
    "\n",
    "import glob\n",
    "import random\n",
    "\n",
    "from albumentations import (\n",
    "    HorizontalFlip, VerticalFlip, ShiftScaleRotate, Transpose, ShiftScaleRotate,  HueSaturationValue,\n",
    "    RandomResizedCrop, RandomBrightnessContrast, Compose, Normalize, Cutout, CoarseDropout, ShiftScaleRotate, \n",
    "    CenterCrop, Resize\n",
    ")\n",
    "from albumentations.pytorch import ToTensorV2\n",
    "\n",
    "import timm\n",
    "\n",
    "import torch\n",
    "import torch.nn as nn\n",
    "import torch.nn.functional as F\n",
    "from torch.utils.data import DataLoader, Dataset\n",
    "from torch.cuda.amp import autocast, GradScaler\n",
    "\n",
    "from sklearn.metrics import accuracy_score\n",
    "\n",
    "warnings.simplefilter(\"ignore\")\n",
    "\n",
    "from pandas.core.common import flatten"
   ]
  },
  {
   "cell_type": "code",
   "execution_count": 57,
   "metadata": {},
   "outputs": [],
   "source": [
    "def plot_results(train_acc, valid_acc, train_loss, valid_loss, nb_epochs):\n",
    "    epochs = [i for i in range(nb_epochs)]\n",
    "    \n",
    "    train_loss = torch.stack(train_loss).cpu().detach().numpy() #train_loss is cuda tensor\n",
    "\n",
    "    fig, ax = plt.subplots(1, 2)\n",
    "    fig.set_size_inches(20, 10)\n",
    "    \n",
    "    ax[0].plot(epochs, train_acc, 'go-', label='Training Accuracy')\n",
    "    ax[0].plot(epochs, valid_acc, 'ro-', label='Validation Accuracy')\n",
    "    ax[0].set_title('Training & Validation Accuracy')\n",
    "    ax[0].legend()\n",
    "    ax[0].set_xlabel('Epochs')\n",
    "    ax[0].set_ylabel('Accuracy')\n",
    "    \n",
    "    ax[1].plot(epochs, train_loss, 'go-', label='Training Loss')\n",
    "    ax[1].plot(epochs, valid_loss, 'ro-', label='Validation Loss')\n",
    "    ax[1].set_title('Training & Validation Loss')\n",
    "    ax[1].legend()\n",
    "    ax[1].set_xlabel('Epochs')\n",
    "    ax[1].set_ylabel('Loss')\n",
    "    \n",
    "    plt.show()"
   ]
  },
  {
   "cell_type": "code",
   "execution_count": 58,
   "metadata": {},
   "outputs": [],
   "source": [
    "class Config:\n",
    "    CFG = {\n",
    "        'img_size': 100,\n",
    "        'tta': 3,\n",
    "        'wd': 1e-6\n",
    "    }"
   ]
  },
  {
   "cell_type": "code",
   "execution_count": 59,
   "metadata": {},
   "outputs": [],
   "source": [
    "class Augments:\n",
    "    \"\"\"\n",
    "    Contains Train, Validation and Testing Augments\n",
    "    \"\"\"\n",
    "    train_augments = Compose([\n",
    "            RandomResizedCrop(Config.CFG['img_size'], Config.CFG['img_size']),\n",
    "            Transpose(p=0.5),\n",
    "            HorizontalFlip(p=0.5),\n",
    "            VerticalFlip(p=0.5),\n",
    "            ShiftScaleRotate(p=0.5),\n",
    "            HueSaturationValue(hue_shift_limit=0.2, sat_shift_limit=0.2, val_shift_limit=0.2, p=0.5),\n",
    "            RandomBrightnessContrast(brightness_limit=(-0.1,0.1), contrast_limit=(-0.1, 0.1), p=0.5),\n",
    "            Normalize(mean=[0.485, 0.456, 0.406], std=[0.229, 0.224, 0.225], max_pixel_value=255.0, p=1.0),\n",
    "            CoarseDropout(p=0.5),\n",
    "            Cutout(p=0.5),\n",
    "            ToTensorV2(p=1.0),\n",
    "        ],p=1.)\n",
    "    \n",
    "    valid_augments = Compose([\n",
    "            CenterCrop(Config.CFG['img_size'], Config.CFG['img_size'], p=1.),\n",
    "            Resize(Config.CFG['img_size'], Config.CFG['img_size']),\n",
    "            Normalize(mean=[0.485, 0.456, 0.406], std=[0.229, 0.224, 0.225], max_pixel_value=255.0, p=1.0),\n",
    "            ToTensorV2(p=1.0),\n",
    "        ], p=1.)"
   ]
  },
  {
   "cell_type": "code",
   "execution_count": 60,
   "metadata": {},
   "outputs": [],
   "source": [
    "class ResNetModel(nn.Module):\n",
    "    \"\"\"\n",
    "    Model Class for ResNet Models\n",
    "    \"\"\"\n",
    "    def __init__(self, num_classes=5, model_name='resnet18', pretrained=True):\n",
    "        super(ResNetModel, self).__init__()\n",
    "        self.model = timm.create_model(model_name, pretrained=pretrained)\n",
    "        self.model.fc = nn.Linear(self.model.fc.in_features, num_classes)\n",
    "        \n",
    "    def forward(self, x):\n",
    "        x = self.model(x)\n",
    "        return x"
   ]
  },
  {
   "cell_type": "code",
   "execution_count": 61,
   "metadata": {},
   "outputs": [],
   "source": [
    "class LDCData(Dataset):\n",
    "    def __init__(self, df, num_classes=5, is_train=True, augments=None, img_size=Config.CFG['img_size'], img_path=\"../input/cassava-leaf-disease-classification/train_images/\"):\n",
    "        super().__init__()\n",
    "        self.df = df.sample(frac=1).reset_index(drop=True)\n",
    "        self.num_classes = num_classes\n",
    "        self.is_train = is_train\n",
    "        self.augments = augments\n",
    "        self.img_size = img_size\n",
    "        self.img_path = img_path\n",
    "        \n",
    "        # Add the Right Image Path\n",
    "        self.df['image_id'] = self.df['image_id'].apply(lambda x: os.path.join(self.img_path, x))\n",
    "    \n",
    "    def __getitem__(self, idx):\n",
    "        # Read the image, Resize, convert to RGB from BGR\n",
    "        img = cv2.imread(self.df['image_id'][idx])\n",
    "        img = img[:, :, ::-1]\n",
    "        \n",
    "        # Augments must be albumentations\n",
    "        if self.augments:\n",
    "            img = self.augments(image=img)['image']\n",
    "        \n",
    "        if self.is_train:\n",
    "            label = self.df['label'][idx]\n",
    "            return img, label\n",
    "        \n",
    "        return img\n",
    "    \n",
    "    def __len__(self):\n",
    "        return len(self.df)"
   ]
  },
  {
   "cell_type": "code",
   "execution_count": 62,
   "metadata": {},
   "outputs": [],
   "source": [
    "class Utils:\n",
    "    def __init__(self, train_data_path, val_data_path):\n",
    "        self.train_data_path = train_data_path \n",
    "        self.val_data_path = val_data_path \n",
    "\n",
    "        self.train_image_paths = []\n",
    "        self.val_image_paths = []\n",
    "        self.classes = []\n",
    "\n",
    "    def get_image_path(self):\n",
    "        for data_path in glob.glob(self.train_data_path + '/*'):\n",
    "            self.classes.append(data_path.split('/')[-1])\n",
    "            self.train_image_paths.append(glob.glob(data_path + '/*'))\n",
    "\n",
    "        self.train_image_paths = list(flatten(self.train_image_paths))\n",
    "        random.shuffle(self.train_image_paths)\n",
    "\n",
    "        print('train_image_path example: ', self.train_image_paths[0])\n",
    "        print('class example: ', self.classes[0])\n",
    "\n",
    "        # val\n",
    "        for data_path in glob.glob(self.val_data_path + '/*'):\n",
    "            self.val_image_paths.append(glob.glob(data_path + '/*'))\n",
    "\n",
    "        self.val_image_paths = list(flatten(self.val_image_paths))\n",
    "\n",
    "        print(\"Train size: {}\\nVal size: {}\".format(len(self.train_image_paths), len(self.val_image_paths)))\n",
    "        \n",
    "        return self.train_image_paths, self.val_image_paths\n",
    "    \n",
    "    def idx_to_class(self):\n",
    "        return {i:j for i, j in enumerate(self.classes)}\n",
    "    \n",
    "    def class_to_idx(self):\n",
    "        return {value:key for key,value in self.idx_to_class().items()}\n",
    "    "
   ]
  },
  {
   "cell_type": "markdown",
   "metadata": {
    "tags": [
     "parameters"
    ]
   },
   "source": [
    "train_data_path = 'dataset/train'\n",
    "val_data_path = 'dataset/val'\n",
    "\n",
    "train_image_paths = []\n",
    "classes = []\n",
    "\n",
    "for data_path in glob.glob(train_data_path + '/*'):\n",
    "    classes.append(data_path.split('/')[-1])\n",
    "    train_image_paths.append(glob.glob(data_path + '/*'))\n",
    "\n",
    "train_image_paths = list(flatten(train_image_paths))\n",
    "random.shuffle(train_image_paths)\n",
    "\n",
    "print('train_image_path example: ', train_image_paths[0])\n",
    "print('class example: ', classes[0])\n",
    "\n",
    "# train_image_paths, valid_image_paths = train_image_paths[:int(0.8*len(train_image_paths))], train_image_paths[int(0.8*len(train_image_paths)):]\n",
    "\n",
    "# test\n",
    "val_image_paths = []\n",
    "for data_path in glob.glob(val_data_path + '/*'):\n",
    "    val_image_paths.append(glob.glob(data_path + '/*'))\n",
    "\n",
    "val_image_paths = list(flatten(val_image_paths))\n",
    "\n",
    "print(\"Train size: {}\\nVal size: {}\".format(len(train_image_paths), len(val_image_paths)))"
   ]
  },
  {
   "cell_type": "markdown",
   "metadata": {},
   "source": [
    "idx_to_class = {i:j for i, j in enumerate(classes)}\n",
    "class_to_idx = {value:key for key,value in idx_to_class.items()}\n"
   ]
  },
  {
   "cell_type": "code",
   "execution_count": 63,
   "metadata": {},
   "outputs": [],
   "source": [
    "class FlowerDataset(Dataset):\n",
    "    def __init__(self, image_paths, class_to_idx, transform=False):\n",
    "        self.image_paths = image_paths\n",
    "        self.transform = transform\n",
    "        self.class_to_idx = class_to_idx\n",
    "    def __len__(self):\n",
    "        return len(self.image_paths)\n",
    "\n",
    "    def __getitem__(self, idx):\n",
    "        image_filepath = self.image_paths[idx]\n",
    "        image = cv2.imread(image_filepath)\n",
    "        image = cv2.cvtColor(image, cv2.COLOR_BGR2RGB)\n",
    "\n",
    "        label = image_filepath.split('/')[-2]\n",
    "        label = self.class_to_idx[label]\n",
    "        if self.transform is not None:\n",
    "            image = self.transform(image=image)[\"image\"]\n",
    "\n",
    "        return image, label"
   ]
  },
  {
   "cell_type": "code",
   "execution_count": 64,
   "metadata": {},
   "outputs": [],
   "source": [
    "# nb_epochs = 20\n",
    "# device = torch.device(\"cuda\")"
   ]
  },
  {
   "cell_type": "code",
   "execution_count": 65,
   "metadata": {},
   "outputs": [],
   "source": [
    "class Trainer:\n",
    "    def __init__(self, train_dataloader, valid_dataloader, model, optimizer, loss_fn, val_loss_fn, scheduler, device=\"cuda:0\", plot_results=True):\n",
    "        \"\"\"\n",
    "        TODO: Implement the ROC-AUC Scheduler stuff\n",
    "        \"\"\"\n",
    "        self.train = train_dataloader\n",
    "        self.valid = valid_dataloader\n",
    "        self.optim = optimizer\n",
    "        self.loss_fn = loss_fn\n",
    "        self.val_loss_fn = val_loss_fn\n",
    "        self.scheduler = scheduler\n",
    "        self.device = device\n",
    "        self.plot_results = plot_results\n",
    "        self.model = model \n",
    "        self.device = device\n",
    "    def train_one_cycle(self):\n",
    "        \"\"\"\n",
    "        Runs one epoch of training, backpropagation, optimization and gets train accuracy\n",
    "        \"\"\"\n",
    "        self.model.train()\n",
    "        train_prog_bar = tqdm(self.train, total=len(self.train))\n",
    "\n",
    "        all_train_labels = []\n",
    "        all_train_preds = []\n",
    "        \n",
    "        running_loss = 0\n",
    "        scaler = GradScaler()\n",
    "        \n",
    "        for xtrain, ytrain in train_prog_bar:\n",
    "            xtrain = xtrain.to(self.device).float()\n",
    "            ytrain = ytrain.to(self.device).long()\n",
    "            \n",
    "            with autocast():\n",
    "                # Get predictions\n",
    "                z = self.model(xtrain)\n",
    "\n",
    "                # Training\n",
    "                train_loss = self.loss_fn(z, ytrain)\n",
    "                scaler.scale(train_loss).backward()\n",
    "                \n",
    "                scaler.step(self.optim)\n",
    "                scaler.update()\n",
    "                self.optim.zero_grad()\n",
    "\n",
    "                # For averaging and reporting later\n",
    "                running_loss += train_loss\n",
    "\n",
    "                # Convert the predictions and corresponding labels to right form\n",
    "                train_predictions = torch.argmax(z, 1).detach().cpu().numpy()\n",
    "                train_labels = ytrain.detach().cpu().numpy()\n",
    "\n",
    "                # Append current predictions and current labels to a list\n",
    "                all_train_labels += [train_predictions]\n",
    "                all_train_preds += [train_labels]\n",
    "\n",
    "            # Show the current loss to the progress bar\n",
    "            train_pbar_desc = f'loss: {train_loss.item():.4f}'\n",
    "            train_prog_bar.set_description(desc=train_pbar_desc)\n",
    "        \n",
    "        # After all the batches are done, calculate the training accuracy\n",
    "        all_train_preds = np.concatenate(all_train_preds)\n",
    "        all_train_labels = np.concatenate(all_train_labels)\n",
    "        \n",
    "        train_acc = (all_train_preds == all_train_labels).mean()\n",
    "        print(f\"Training Accuracy: {train_acc:.4f}\")\n",
    "        \n",
    "        # Now average the running loss over all batches and return\n",
    "        train_running_loss = running_loss / len(self.train)\n",
    "        \n",
    "        # Free up memory\n",
    "        del all_train_labels, all_train_preds, train_predictions, train_labels, xtrain, ytrain, z\n",
    "        \n",
    "        return (train_acc, train_running_loss)\n",
    "\n",
    "    def valid_one_cycle(self):\n",
    "        \"\"\"\n",
    "        Runs one epoch of prediction and validation accuracy calculation\n",
    "        \"\"\"        \n",
    "        self.model.eval()\n",
    "        \n",
    "        valid_prog_bar = tqdm(self.valid, total=len(self.valid))\n",
    "        \n",
    "        with torch.no_grad():\n",
    "            all_valid_labels = []\n",
    "            all_valid_preds = []\n",
    "            \n",
    "            running_loss = 0\n",
    "            \n",
    "            for xval, yval in valid_prog_bar:\n",
    "                xval = xval.to(self.device).float()\n",
    "                yval = yval.to(self.device).long()\n",
    "                \n",
    "                val_z = self.model(xval)\n",
    "                \n",
    "                val_loss = self.val_loss_fn(val_z, yval)\n",
    "                \n",
    "                running_loss += val_loss.item()\n",
    "                \n",
    "                val_pred = torch.argmax(val_z, 1).detach().cpu().numpy()\n",
    "                val_label = yval.detach().cpu().numpy()\n",
    "                \n",
    "                all_valid_labels += [val_label]\n",
    "                all_valid_preds += [val_pred]\n",
    "            \n",
    "                # Show the current loss\n",
    "                valid_pbar_desc = f\"loss: {val_loss.item():.4f}\"\n",
    "                valid_prog_bar.set_description(desc=valid_pbar_desc)\n",
    "            \n",
    "            # Get the final loss\n",
    "            final_loss_val = running_loss / len(self.valid)\n",
    "            \n",
    "            # Get Validation Accuracy\n",
    "            all_valid_labels = np.concatenate(all_valid_labels)\n",
    "            all_valid_preds = np.concatenate(all_valid_preds)\n",
    "            \n",
    "            val_accuracy = (all_valid_preds == all_valid_labels).mean()\n",
    "            print(f\"Validation Accuracy: {val_accuracy:.4f}\")\n",
    "            \n",
    "            # Free up memory\n",
    "            del all_valid_labels, all_valid_preds, val_label, val_pred, xval, yval, val_z\n",
    "            \n",
    "        return (val_accuracy, final_loss_val, self.model)\n",
    "    \n",
    "    def fit(self, epochs: int = 10, output_dir: str = \"/kaggle/working/\", custom_name: str = 'model.pth'):\n",
    "        best_loss = int(1e+7)\n",
    "        # best_preds = None\n",
    "\n",
    "        train_accs = []\n",
    "        valid_accs = []\n",
    "        train_losses = []\n",
    "        valid_losses = []\n",
    "        for epoch in range(epochs):\n",
    "            print(f\"{'-'*20} EPOCH: {epoch}/{epochs} {'-'*20}\")\n",
    "\n",
    "            # Run one training epoch\n",
    "            current_train_acc, current_train_loss = self.train_one_cycle()\n",
    "            train_accs.append(current_train_acc)\n",
    "            train_losses.append(current_train_loss)\n",
    "\n",
    "            # Run one validation epoch\n",
    "            current_val_acc, current_val_loss, op_model = self.valid_one_cycle()\n",
    "            valid_accs.append(current_val_acc)\n",
    "            valid_losses.append(current_val_loss)\n",
    "\n",
    "            if current_val_acc < best_loss:\n",
    "                best_loss = current_val_acc\n",
    "                self.save_model(output_dir, custom_name)\n",
    "                print(f\"Saved model with val_loss: {best_loss:.4f}\")\n",
    "        # Empty CUDA cache\n",
    "        torch.cuda.empty_cache()\n",
    "        plot_results(train_accs, valid_accs, train_losses, valid_losses, epochs)\n",
    "        return best_loss\n",
    "            \n",
    "    def save_model(self, path, name, verbose=False):\n",
    "        \"\"\"\n",
    "        Saves the model at the provided destination\n",
    "        \"\"\"\n",
    "        try:\n",
    "            if not os.path.exists(path):\n",
    "                os.makedirs(path)\n",
    "        except:\n",
    "            print(\"Errors encountered while making the output directory\")\n",
    "\n",
    "        torch.save(self.model.state_dict(), os.path.join(path, name))\n",
    "        if verbose:\n",
    "            print(f\"Model Saved at: {os.path.join(path, name)}\")"
   ]
  },
  {
   "cell_type": "code",
   "execution_count": 66,
   "metadata": {},
   "outputs": [
    {
     "name": "stdout",
     "output_type": "stream",
     "text": [
      "[INFO] Using GPU: NVIDIA GeForce RTX 2070 with Max-Q Design\n",
      "\n",
      "train_image_path example:  dataset/train/tulips/5653364300_bc557236c7_n.jpg\n",
      "class example:  tulips\n",
      "Train size: 3303\n",
      "Val size: 367\n",
      "-------------------- EPOCH: 0/5 --------------------\n"
     ]
    },
    {
     "name": "stderr",
     "output_type": "stream",
     "text": [
      "loss: 1.2155: 100%|██████████| 207/207 [00:08<00:00, 25.20it/s]\n"
     ]
    },
    {
     "name": "stdout",
     "output_type": "stream",
     "text": [
      "Training Accuracy: 0.4983\n"
     ]
    },
    {
     "name": "stderr",
     "output_type": "stream",
     "text": [
      "loss: 0.8966: 100%|██████████| 12/12 [00:00<00:00, 15.22it/s]\n"
     ]
    },
    {
     "name": "stdout",
     "output_type": "stream",
     "text": [
      "Validation Accuracy: 0.6485\n",
      "Saved model with val_loss: 0.6485\n",
      "-------------------- EPOCH: 1/5 --------------------\n"
     ]
    },
    {
     "name": "stderr",
     "output_type": "stream",
     "text": [
      "loss: 0.9216: 100%|██████████| 207/207 [00:07<00:00, 26.03it/s]\n"
     ]
    },
    {
     "name": "stdout",
     "output_type": "stream",
     "text": [
      "Training Accuracy: 0.6833\n"
     ]
    },
    {
     "name": "stderr",
     "output_type": "stream",
     "text": [
      "loss: 0.5860: 100%|██████████| 12/12 [00:00<00:00, 14.00it/s]\n"
     ]
    },
    {
     "name": "stdout",
     "output_type": "stream",
     "text": [
      "Validation Accuracy: 0.7057\n",
      "-------------------- EPOCH: 2/5 --------------------\n"
     ]
    },
    {
     "name": "stderr",
     "output_type": "stream",
     "text": [
      "loss: 1.0502: 100%|██████████| 207/207 [00:08<00:00, 24.58it/s]\n"
     ]
    },
    {
     "name": "stdout",
     "output_type": "stream",
     "text": [
      "Training Accuracy: 0.7269\n"
     ]
    },
    {
     "name": "stderr",
     "output_type": "stream",
     "text": [
      "loss: 0.5314: 100%|██████████| 12/12 [00:00<00:00, 14.66it/s]\n"
     ]
    },
    {
     "name": "stdout",
     "output_type": "stream",
     "text": [
      "Validation Accuracy: 0.7493\n",
      "-------------------- EPOCH: 3/5 --------------------\n"
     ]
    },
    {
     "name": "stderr",
     "output_type": "stream",
     "text": [
      "loss: 0.6779: 100%|██████████| 207/207 [00:08<00:00, 25.87it/s]\n"
     ]
    },
    {
     "name": "stdout",
     "output_type": "stream",
     "text": [
      "Training Accuracy: 0.7484\n"
     ]
    },
    {
     "name": "stderr",
     "output_type": "stream",
     "text": [
      "loss: 0.6087: 100%|██████████| 12/12 [00:00<00:00, 14.12it/s]\n"
     ]
    },
    {
     "name": "stdout",
     "output_type": "stream",
     "text": [
      "Validation Accuracy: 0.7657\n",
      "-------------------- EPOCH: 4/5 --------------------\n"
     ]
    },
    {
     "name": "stderr",
     "output_type": "stream",
     "text": [
      "loss: 1.3985: 100%|██████████| 207/207 [00:08<00:00, 25.60it/s]\n"
     ]
    },
    {
     "name": "stdout",
     "output_type": "stream",
     "text": [
      "Training Accuracy: 0.7602\n"
     ]
    },
    {
     "name": "stderr",
     "output_type": "stream",
     "text": [
      "loss: 0.6709: 100%|██████████| 12/12 [00:00<00:00, 13.98it/s]\n"
     ]
    },
    {
     "name": "stdout",
     "output_type": "stream",
     "text": [
      "Validation Accuracy: 0.7956\n"
     ]
    },
    {
     "data": {
      "image/png": "[encoded data removed]",
      "text/plain": [
       "<Figure size 2000x1000 with 2 Axes>"
      ]
     },
     "metadata": {},
     "output_type": "display_data"
    }
   ],
   "source": [
    "if __name__ == '__main__':\n",
    "    if torch.cuda.is_available():\n",
    "        print(\"[INFO] Using GPU: {}\\n\".format(torch.cuda.get_device_name()))\n",
    "        DEVICE = torch.device('cuda:0')\n",
    "    else:\n",
    "        print(\"\\n[INFO] GPU not found. Using CPU: {}\\n\".format(platform.processor()))\n",
    "        DEVICE = torch.device('cpu')\n",
    "    utils = Utils(\n",
    "        'dataset/train',\n",
    "        'dataset/val'\n",
    "    )\n",
    "\n",
    "    train_image_paths, val_image_paths = utils.get_image_path()\n",
    "    train_set = FlowerDataset(train_image_paths, utils.class_to_idx(), Augments.train_augments)\n",
    "    valid_set = FlowerDataset(val_image_paths, utils.class_to_idx(),Augments.valid_augments)\n",
    "\n",
    "\n",
    "    train = DataLoader(\n",
    "        train_set,\n",
    "        batch_size=16,\n",
    "        shuffle=True,\n",
    "        pin_memory=False,\n",
    "        drop_last=False,\n",
    "        num_workers=8\n",
    "    )\n",
    "\n",
    "    valid = DataLoader(\n",
    "        valid_set,\n",
    "        batch_size=32,\n",
    "        shuffle=False,\n",
    "        pin_memory=False,\n",
    "        num_workers=8\n",
    "    )\n",
    "\n",
    "    model = ResNetModel(num_classes=5).to(DEVICE)\n",
    "    optim = torch.optim.AdamW(model.parameters(), lr=1e-5, weight_decay=Config.CFG['wd'])\n",
    "    loss_fn = nn.CrossEntropyLoss().to(DEVICE)\n",
    "    loss_fn_val = nn.CrossEntropyLoss().to(DEVICE)\n",
    "\n",
    "    trainer = Trainer(\n",
    "        train_dataloader=train,\n",
    "        valid_dataloader=valid,\n",
    "        model=model,\n",
    "        optimizer=optim,\n",
    "        loss_fn=loss_fn,\n",
    "        val_loss_fn=loss_fn_val,\n",
    "        scheduler=None,\n",
    "        device=DEVICE,\n",
    "    )\n",
    "\n",
    "    trainer.fit(\n",
    "        epochs=5,\n",
    "        output_dir='output',\n",
    "        custom_name=\"model.pth\"\n",
    "    )\n",
    "\n",
    "    # train_accs = []\n",
    "    # valid_accs = []\n",
    "    # train_losses = []\n",
    "    # valid_losses = []\n",
    "\n",
    "    # scaler = GradScaler()\n",
    "\n",
    "    # for epoch in range(nb_epochs):\n",
    "    #     print(f\"{'-'*20} EPOCH: {epoch}/{nb_epochs} {'-'*20}\")\n",
    "\n",
    "    #     # Run one training epoch\n",
    "    #     current_train_acc, current_train_loss = trainer.train_one_cycle()\n",
    "    #     train_accs.append(current_train_acc)\n",
    "    #     train_losses.append(current_train_loss)\n",
    "\n",
    "    #     # Run one validation epoch\n",
    "    #     current_val_acc, current_val_loss, op_model = trainer.valid_one_cycle()\n",
    "    #     valid_accs.append(current_val_acc)\n",
    "    #     valid_losses.append(current_val_loss)\n",
    "\n",
    "    #     # Empty CUDA cache\n",
    "    #     torch.cuda.empty_cache()\n",
    "        \n",
    "    #     # Save the model every epoch\n",
    "    #     print(f\"Saving Model for this epoch...\")\n",
    "    #     torch.save(op_model.state_dict(), f\"vit_base_p16_384_fold_{fold}_model.pth\")\n",
    "    \n",
    "    del train_set, valid_set, train, valid, model, optim, loss_fn, loss_fn_val, trainer\n",
    "    torch.cuda.empty_cache()\n"
   ]
  }
 ],
 "metadata": {
  "kernelspec": {
   "display_name": "torch",
   "language": "python",
   "name": "python3"
  },
  "language_info": {
   "codemirror_mode": {
    "name": "ipython",
    "version": 3
   },
   "file_extension": ".py",
   "mimetype": "text/x-python",
   "name": "python",
   "nbconvert_exporter": "python",
   "pygments_lexer": "ipython3",
   "version": "3.8.10"
  },
  "orig_nbformat": 4,
  "vscode": {
   "interpreter": {
    "hash": "cefdd032d1ad7efeb96b508865f0580caeaa0ec203c02776b05693bf35d2dab0"
   }
  }
 },
 "nbformat": 4,
 "nbformat_minor": 2
}
